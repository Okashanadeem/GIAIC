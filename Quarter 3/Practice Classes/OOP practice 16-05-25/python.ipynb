{
 "cells": [
  {
   "cell_type": "code",
   "execution_count": 7,
   "id": "916c84d2",
   "metadata": {},
   "outputs": [
    {
     "name": "stdout",
     "output_type": "stream",
     "text": [
      "{'id': '12345', 'customer': 'John Doe', 'items': ['Book', 'Pen'], 'status': 'processing'}\n"
     ]
    }
   ],
   "source": [
    "class Order:\n",
    "    def __init__(self, order_id, customer_name, items=None):\n",
    "        self.order_id = order_id\n",
    "        self.customer_name = customer_name\n",
    "        self.items = items or []\n",
    "        self.status = \"new\"\n",
    "    \n",
    "    def add_item(self, item):\n",
    "        self.items.append(item)\n",
    "    \n",
    "    def set_status(self, status):\n",
    "        self.status = status\n",
    "    \n",
    "    def get_info(self):\n",
    "        return {\n",
    "            \"id\": self.order_id,\n",
    "            \"customer\": self.customer_name,\n",
    "            \"items\": self.items,\n",
    "            \"status\": self.status\n",
    "        }\n",
    "    \n",
    "if __name__ == \"__main__\":\n",
    "    # Create a new order\n",
    "    order = Order(\"12345\", \"John Doe\")\n",
    "    \n",
    "    # Add some items\n",
    "    order.add_item(\"Book\")\n",
    "    order.add_item(\"Pen\")\n",
    "    \n",
    "    # Change status\n",
    "    order.set_status(\"processing\")\n",
    "    \n",
    "    # Get order info\n",
    "    print(order.get_info())\n",
    "\n",
    "\n",
    "\n",
    "# print(Order.mro()) #in py class is an object by default "
   ]
  },
  {
   "cell_type": "code",
   "execution_count": null,
   "id": "bcd93436",
   "metadata": {},
   "outputs": [],
   "source": []
  }
 ],
 "metadata": {
  "kernelspec": {
   "display_name": "Python 3",
   "language": "python",
   "name": "python3"
  },
  "language_info": {
   "codemirror_mode": {
    "name": "ipython",
    "version": 3
   },
   "file_extension": ".py",
   "mimetype": "text/x-python",
   "name": "python",
   "nbconvert_exporter": "python",
   "pygments_lexer": "ipython3",
   "version": "3.13.2"
  }
 },
 "nbformat": 4,
 "nbformat_minor": 5
}
