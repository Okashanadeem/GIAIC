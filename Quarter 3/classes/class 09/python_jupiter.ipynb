{
 "cells": [
  {
   "cell_type": "markdown",
   "id": "295f9667",
   "metadata": {},
   "source": [
    "**OOP** uses classes (blueprints for data) with names starting in uppercase. Key concepts include:\n",
    "\n",
    "* **Encapsulation:** Bundling data and methods.\n",
    "* **Inheritance:** Deriving properties from existing classes.\n",
    "* **Polymorphism:** Objects responding differently to the same method.\n",
    "* **Abstraction:** Hiding complexity, showing essential details.\n",
    "\n",
    "Python's `__init__` (constructor) with `self` (instance reference) runs automatically when an object is created, allowing functions within the class to access that specific object."
   ]
  },
  {
   "cell_type": "code",
   "execution_count": null,
   "id": "58500baf",
   "metadata": {},
   "outputs": [
    {
     "name": "stdout",
     "output_type": "stream",
     "text": [
      "Okasha\n",
      "1000\n",
      "None\n"
     ]
    }
   ],
   "source": [
    "# Encapsulation is used to hide or restrict something and give the final out put.\n",
    "class hide:\n",
    "    def __init__(self,name:str):\n",
    "        self.name = name\n",
    "        self.__salary = 1000\n",
    "\n",
    "    #ppersonalised function    \n",
    "    def get_income(self):\n",
    "        return self.__salary\n",
    "\n",
    "    def set_income(self):\n",
    "        self.__salary = 2000\n",
    "\n",
    "person = hide(\"Okasha\")\n",
    "print(person.name)\n",
    "print(person.get_income())\n",
    "print(person.set_income())\n",
    "\n",
    "# also we coverd polimorphism that sigal thing can have a lot of tasks also we covered method overriding"
   ]
  },
  {
   "cell_type": "code",
   "execution_count": null,
   "id": "aa795597",
   "metadata": {},
   "outputs": [],
   "source": []
  }
 ],
 "metadata": {
  "kernelspec": {
   "display_name": "Python 3",
   "language": "python",
   "name": "python3"
  },
  "language_info": {
   "codemirror_mode": {
    "name": "ipython",
    "version": 3
   },
   "file_extension": ".py",
   "mimetype": "text/x-python",
   "name": "python",
   "nbconvert_exporter": "python",
   "pygments_lexer": "ipython3",
   "version": "3.13.2"
  }
 },
 "nbformat": 4,
 "nbformat_minor": 5
}
