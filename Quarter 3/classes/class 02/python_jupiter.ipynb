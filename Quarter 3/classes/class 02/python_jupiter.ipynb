{
 "cells": [
  {
   "cell_type": "code",
   "execution_count": null,
   "metadata": {},
   "outputs": [],
   "source": [
    "# Printing a simple message\n",
    "print(\"hello Okasha\")"
   ]
  },
  {
   "cell_type": "code",
   "execution_count": null,
   "metadata": {},
   "outputs": [],
   "source": [
    "# String Methods Demonstrations\n",
    "name = \"Okasha Nadeem\"\n",
    "print(name.upper())       # Convert to uppercase\n",
    "print(name.lower())       # Convert to lowercase\n",
    "print(name.capitalize())  # Capitalize the first letter\n",
    "print(name.title())       # Capitalize the first letter of each word\n",
    "print(len(name))          # Get the length of the string"
   ]
  },
  {
   "cell_type": "code",
   "execution_count": null,
   "metadata": {},
   "outputs": [],
   "source": [
    "# Stripping whitespaces\n",
    "print(name.strip())   # Remove leading and trailing spaces\n",
    "print(name.lstrip())  # Remove leading spaces\n",
    "print(name.rstrip())  # Remove trailing spaces"
   ]
  },
  {
   "cell_type": "code",
   "execution_count": null,
   "metadata": {},
   "outputs": [],
   "source": [
    "# Replacing values in a string\n",
    "value = \"Okasha\"\n",
    "print(value.replace(\"Okasha\", \"Nadeem\"))  # Replace full string\n",
    "print(value.replace(\"a\", \"A\"))             # Replace all 'a' with 'A'\n",
    "print(value.replace(\"a\", \"A\", 1))         # Replace only the first 'a'"
   ]
  },
  {
   "cell_type": "code",
   "execution_count": null,
   "metadata": {},
   "outputs": [],
   "source": [
    "# Finding index of a character\n",
    "value1 = \"Name\"\n",
    "print(value1.index(\"a\"))  # Returns index of first occurrence of 'a'\n",
    "print(value1.find(\"a\"))   # Similar to index but does not raise an error if not found\n",
    "\n",
    "# Difference between find() and index()\n",
    "print(value1.find(\"i\"))   # Returns -1 since 'i' is not found\n",
    "# print(value1.index(\"i\")) # Would raise an error since 'i' is not found"
   ]
  },
  {
   "cell_type": "code",
   "execution_count": null,
   "metadata": {},
   "outputs": [],
   "source": [
    "# Checking string start and end\n",
    "value2 = \"Ramzan Mubarak\"\n",
    "print(value2.startswith(\"Ramzan\"))   # True\n",
    "print(value2.startswith(\"Mubarak\"))  # False\n",
    "print(value2.endswith(\"Mubarak\"))    # True\n",
    "print(value2.endswith(\"Ramzan\"))     # False\n",
    "\n",
    "# Conditional check with startswith\n",
    "if value2.startswith(\"Ramzan\"):\n",
    "    print(\"Ramzan Mubarak\")\n",
    "else:\n",
    "    print(\"Eid Mubarak\")"
   ]
  },
  {
   "cell_type": "code",
   "execution_count": null,
   "metadata": {},
   "outputs": [],
   "source": [
    "# Splitting a string into a list\n",
    "value3 = \"jan,feb,march,april,may,june,july\"\n",
    "print(value3.split(\",\"))\n",
    "\n",
    "# Demonstrating list methods\n",
    "mylist = ['jan', 'feb', 'march', 'april']\n",
    "print(mylist.append(\"july\"))    # Append an element (returns None, modifies list in-place)\n",
    "print(mylist.insert(0, \"dec\"))  # Insert an element at a specific index\n",
    "\n",
    "# Removing elements\n",
    "removed_item = mylist.pop()  # Remove the last item and return it\n",
    "print(removed_item)\n",
    "\n",
    "# Extending lists\n",
    "mylist1 = ['jan', 'feb', 'march', 'april']\n",
    "mylist2 = ['may', 'jun', 'july', 'august']\n",
    "mylist1.extend(mylist2)  # Extend list1 with elements of list2\n",
    "print(mylist1)\n",
    "\n",
    "# Concatenating lists\n",
    "list3 = mylist1 + mylist2\n",
    "print(list3)\n",
    "\n",
    "# Sorting a list\n",
    "mylist3 = [1, 5, 3, 6, 2, 4]\n",
    "mylist3.sort()  # Sort in ascending order\n",
    "print(\"sort ascending: \", mylist3)\n",
    "\n",
    "mylist3.sort(reverse=True)  # Sort in descending order\n",
    "print(\"sort descending: \", mylist3)\n",
    "\n",
    "mylist3.reverse()  # Reverse the order of elements\n",
    "print(\"reversed method: \", mylist3)\n",
    "\n",
    "mylist3.remove(5)  # Remove the element 5 from the list\n",
    "print(\"removed Item: \", mylist3)\n",
    "\n",
    "# Copying lists\n",
    "mylist3_copy = mylist3.copy()\n",
    "print(\"Copy List: \", mylist3_copy)\n",
    "\n",
    "# Slicing lists\n",
    "mylist3_copy2 = mylist3[0:3]  # Get first 3 elements\n",
    "print(mylist3_copy2)\n",
    "\n",
    "mylist3_copy3 = mylist3[0:3:2]  # Get elements with a step of 2\n",
    "print(mylist3_copy3)"
   ]
  },
  {
   "cell_type": "code",
   "execution_count": null,
   "metadata": {},
   "outputs": [],
   "source": [
    "# Dictionary methods\n",
    "student = {\n",
    "    \"Name\": \"Ali\",\n",
    "    \"Age\": 15\n",
    "}\n",
    "\n",
    "student.update({\"Roll Number\": 178})  # Update dictionary with new key-value pair\n",
    "print(\"update display: \", student)\n",
    "\n",
    "print(\"Pop: \", student.pop(\"Name\"))  # Remove key \"Name\" and return its value\n",
    "print(\"Pop Item: \", student.popitem())  # Remove and return the last key-value pair\n",
    "\n",
    "print(\"Keys: \", student.keys())  # Get all keys\n",
    "print(\"values: \", student.values())  # Get all values\n",
    "print(\"items: \", student.items())  # Get all key-value pairs\n",
    "\n",
    "# Iterating through dictionary items\n",
    "for k, value in student.items():\n",
    "    print(f\"item key: {k} and value: {value}\")\n",
    "\n",
    "for tup in student.items():\n",
    "    print(\"tuple: \", tup)\n",
    "\n",
    "# Unpacking dictionary items\n",
    "for tup in student.items():\n",
    "    a, b = tup\n",
    "    print(\"a:\", a)\n",
    "    print(\"b:\", b)\n",
    "\n",
    "# Homework: Demonstrating del\n",
    "student = {\"Name\": \"Ali\", \"Age\": 15, \"Roll Number\": 178}\n",
    "del student[\"Age\"]  # Delete specific key\n",
    "print(\"Dictionary after deleting 'Age':\", student)\n",
    "\n",
    "del student  # Delete the entire dictionary (will cause error if accessed later)"
   ]
  }
 ],
 "metadata": {
  "kernelspec": {
   "display_name": "Python 3",
   "language": "python",
   "name": "python3"
  },
  "language_info": {
   "codemirror_mode": {
    "name": "ipython",
    "version": 3
   },
   "file_extension": ".py",
   "mimetype": "text/x-python",
   "name": "python",
   "nbconvert_exporter": "python",
   "pygments_lexer": "ipython3",
   "version": "3.13.2"
  }
 },
 "nbformat": 4,
 "nbformat_minor": 2
}
