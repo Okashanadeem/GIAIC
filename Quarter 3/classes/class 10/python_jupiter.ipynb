{
 "cells": [
  {
   "cell_type": "code",
   "execution_count": 1,
   "id": "4afca9d0",
   "metadata": {},
   "outputs": [
    {
     "name": "stdout",
     "output_type": "stream",
     "text": [
      "class 10\n"
     ]
    }
   ],
   "source": [
    "print(\"class 10\")"
   ]
  },
  {
   "cell_type": "markdown",
   "id": "2269346a",
   "metadata": {},
   "source": [
    "# Abstraction"
   ]
  },
  {
   "cell_type": "code",
   "execution_count": 43,
   "id": "f34d6cfb",
   "metadata": {},
   "outputs": [
    {
     "name": "stdout",
     "output_type": "stream",
     "text": [
      "Son is greeting!\n",
      "Studying\n",
      "['Okasha', 'Urooj', 'Yousra', 'Shanzey']\n",
      "Okasha\n",
      "Cousin\n",
      "G223\n",
      "(<class '__main__.Person'>, <class '__main__.Son'>, <class '__main__.Relative'>, <class '__main__.Father'>, <class 'abc.ABC'>, <class 'object'>)\n"
     ]
    }
   ],
   "source": [
    "from abc import ABC, abstractmethod\n",
    "\n",
    "# Abstraction\n",
    "class Father(ABC):\n",
    "    def __init__(self, name, age, **kwargs):\n",
    "        super().__init__(**kwargs)\n",
    "        self.name = name\n",
    "        self.age = age\n",
    "\n",
    "    @abstractmethod\n",
    "    def work(self):\n",
    "        pass  # Abstract method\n",
    "\n",
    "    def family(self):\n",
    "        family = [\"Okasha\", \"Urooj\", \"Yousra\", \"Shanzey\"]\n",
    "        print(family)\n",
    "\n",
    "# Single Inheritance\n",
    "class Son(Father):\n",
    "    def __init__(self, school_name, **kwargs):\n",
    "        super().__init__(**kwargs)\n",
    "        self.school_name = school_name\n",
    "\n",
    "    def work(self):\n",
    "        print(\"Studying\")\n",
    "\n",
    "    def greet(self):\n",
    "        print(\"Son is greeting!\")\n",
    "\n",
    "# Additional Inheritance\n",
    "class Relative(Father):\n",
    "    def __init__(self, relation, **kwargs):\n",
    "        super().__init__(**kwargs)\n",
    "        self.relation = relation\n",
    "\n",
    "    def work(self):\n",
    "        print(\"I am an engineer\")\n",
    "\n",
    "    def greet(self):\n",
    "        print(\"Relative is greeting!\")\n",
    "\n",
    "# Multiple Inheritance\n",
    "class Person(Son, Relative):\n",
    "    def __init__(self, name, age, school_name, relation, address):\n",
    "        super().__init__(name=name, age=age, school_name=school_name, relation=relation)\n",
    "        self.address = address\n",
    "\n",
    "# Create an instance\n",
    "pers = Person(\"Okasha\", 18, \"H.A\", \"Cousin\", \"G223\")\n",
    "\n",
    "# Method calls\n",
    "pers.greet()       # Son's greet() due to MRO\n",
    "pers.work()        # Son's work() due to MRO\n",
    "pers.family()      # Inherited from Father\n",
    "print(pers.name)   # \"Okasha\"\n",
    "print(pers.relation)  # \"Cousin\"\n",
    "print(pers.address)   # \"G223\"\n",
    "\n",
    "\n",
    "print(Person.__mro__)\n",
    "\n"
   ]
  },
  {
   "cell_type": "code",
   "execution_count": 42,
   "id": "06c69190",
   "metadata": {},
   "outputs": [
    {
     "name": "stdout",
     "output_type": "stream",
     "text": [
      "Hello! My name is Okasha and I'm 18 years old.\n",
      "Hello! My name is Ayesha and I'm 17 years old.\n",
      "Combined name of Okasha and Ayesha is Okasha Ayesha.\n",
      "Combined age of Okasha and Ayesha is 35.\n",
      "Hello! My name is Okasha Ayesha and I'm 35 years old.\n",
      "My name is Okasha Ayesha and I am 35 years old.\n"
     ]
    }
   ],
   "source": [
    "# Dunder/Magic method \n",
    "\n",
    "class Person:\n",
    "    def __init__(self, name: str, age: int):\n",
    "        self.name = name\n",
    "        self.age = age\n",
    "        print(f\"Hello! My name is {name} and I'm {age} years old.\")\n",
    "\n",
    "    def __add__(self, other):\n",
    "        if isinstance(other, Person):\n",
    "            combined_name = self.name + \" \" + other.name \n",
    "            print(f\"Combined name of {self.name} and {other.name} is {combined_name}.\")\n",
    "            combined_age = self.age + other.age \n",
    "            print(f\"Combined age of {self.name} and {other.name} is {combined_age}.\")\n",
    "            return Person(combined_name, combined_age)\n",
    "        return NotImplemented\n",
    "\n",
    "    def __str__(self):\n",
    "        return f\"My name is {self.name} and I am {self.age} years old.\"\n",
    "\n",
    "# Creating objects\n",
    "P1 = Person(\"Okasha\", 18)\n",
    "P2 = Person(\"Ayesha\", 17)\n",
    "\n",
    "# Using + operator\n",
    "Result = P1 + P2 \n",
    "\n",
    "# Printing the result\n",
    "print(Result)\n"
   ]
  },
  {
   "cell_type": "code",
   "execution_count": null,
   "id": "445967c1",
   "metadata": {},
   "outputs": [
    {
     "name": "stdout",
     "output_type": "stream",
     "text": [
      "Okasha studies in grade 10 at Future Vision Academy.\n",
      "The medium of instruction is English.\n",
      "\n",
      "Ayesha studies in grade 9 at Future Vision Academy.\n",
      "The medium of instruction is Urdu.\n",
      "School name changed to: Knowledge House School\n"
     ]
    }
   ],
   "source": [
    "class Student:\n",
    "    school_name = \"Bright Future High School\"  # Class-level attribute\n",
    "\n",
    "    def __init__(self, name, grade, language=\"English\"):  # Default language\n",
    "        self.name = name\n",
    "        self.grade = grade\n",
    "        self.language = language  # Instance-level attribute\n",
    "\n",
    "    def display(self):\n",
    "        print(f\"{self.name} studies in grade {self.grade} at {Student.school_name}.\")\n",
    "        print(f\"The medium of instruction is {self.language}.\")\n",
    "\n",
    "    @classmethod\n",
    "    def change_school(cls, new_name):\n",
    "        \"\"\"This method changes the class-level attribute 'school_name'\"\"\"\n",
    "        cls.school_name = new_name\n",
    "        print(f\"School name changed to: {cls.school_name}\")\n",
    "\n",
    "# Creating student objects with different languages\n",
    "s1 = Student(\"Okasha\", 10, \"English\")\n",
    "s2 = Student(\"Ayesha\", 9, \"Urdu\")\n",
    "\n",
    "\n",
    "# Accessing and modifying class-level attribute directly\n",
    "Student.school_name = \"Future Vision Academy\"\n",
    "\n",
    "# Displaying info\n",
    "s1.display()\n",
    "print()\n",
    "s2.display()\n",
    "\n",
    "# Change school name using class method\n",
    "Student.change_school(\"Knowledge House School\")"
   ]
  }
 ],
 "metadata": {
  "kernelspec": {
   "display_name": "Python 3",
   "language": "python",
   "name": "python3"
  },
  "language_info": {
   "codemirror_mode": {
    "name": "ipython",
    "version": 3
   },
   "file_extension": ".py",
   "mimetype": "text/x-python",
   "name": "python",
   "nbconvert_exporter": "python",
   "pygments_lexer": "ipython3",
   "version": "3.13.2"
  }
 },
 "nbformat": 4,
 "nbformat_minor": 5
}
