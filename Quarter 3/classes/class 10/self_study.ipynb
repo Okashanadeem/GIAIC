{
 "cells": [
  {
   "cell_type": "markdown",
   "id": "d09af168",
   "metadata": {},
   "source": [
    "## Practice > OOP"
   ]
  },
  {
   "cell_type": "markdown",
   "id": "f83e5e3f",
   "metadata": {},
   "source": [
    "### 1.\n",
    "\n",
    "Create Student class that takes name and marks of three subjects in a constructor. then creatod a method to print the averag."
   ]
  },
  {
   "cell_type": "code",
   "execution_count": 1,
   "id": "52f84496",
   "metadata": {},
   "outputs": [
    {
     "name": "stdout",
     "output_type": "stream",
     "text": [
      "Average marks of Okasha is 20.0\n"
     ]
    }
   ],
   "source": [
    "class Data:\n",
    "    def __init__(self,name:str,):\n",
    "        self.name = name\n",
    "\n",
    "    def get_avg(\n",
    "        self,\n",
    "        sub1:int,\n",
    "        sub2:int,\n",
    "        sub3:int\n",
    "    ):\n",
    "        avg = (sub1+sub2+sub3)/3\n",
    "        print(f\"Average marks of {self.name} is {avg}\")\n",
    "\n",
    "\n",
    "std1 = Data(\"Okasha\")\n",
    "std1.get_avg(10,20,30)"
   ]
  },
  {
   "cell_type": "markdown",
   "id": "c1b8c4f7",
   "metadata": {},
   "source": [
    "### 2.\n",
    "Create a BankAccount class that stores account holder name, account number, and balance. Add methods to deposit, withdraw, and check balance. Prevent withdrawal if balance is insufficient."
   ]
  },
  {
   "cell_type": "code",
   "execution_count": 4,
   "id": "fc11407d",
   "metadata": {},
   "outputs": [
    {
     "name": "stdout",
     "output_type": "stream",
     "text": [
      "Account holder name is Okasha\n",
      "Account number is 1211\n",
      "Account balance is 10000\n",
      "Your balance after deposit is 11000\n",
      "Your balance after withdraw is 5000\n"
     ]
    }
   ],
   "source": [
    "class Bank:\n",
    "    def __init__(self,holder_name:str ,acc_num:int ,balance:int):\n",
    "        self.holder_name = holder_name\n",
    "        self.acc_num = acc_num\n",
    "        self.balance = balance\n",
    "\n",
    "    def acc_data(self):\n",
    "        print(f\"Account holder name is {self.holder_name}\")\n",
    "        print(f\"Account number is {self.acc_num}\")\n",
    "        print(f\"Account balance is {self.balance}\")\n",
    "\n",
    "    def deposit(self,amount:int):\n",
    "        if amount < 0:\n",
    "            print(\"Invalid amount\")\n",
    "        else:\n",
    "            deposit = self.balance + amount\n",
    "            print(f\"Your balance after deposit is {deposit}\")\n",
    "\n",
    "    def withdraw(self,amount:int):\n",
    "        if amount < 0 or  amount > self.balance:\n",
    "            print(\"Invalid amount\")\n",
    "        else:\n",
    "            withdraw = self.balance - amount\n",
    "            print(f\"Your balance after withdraw is {withdraw}\")\n",
    "\n",
    "acc1 = Bank(\"Okasha\",1234-23,10000)\n",
    "acc1.acc_data()\n",
    "acc1.deposit(1000)\n",
    "acc1.withdraw(5000)"
   ]
  },
  {
   "cell_type": "markdown",
   "id": "ecec41bf",
   "metadata": {},
   "source": [
    "### 3.\n",
    "Create a Book class with title, author, and availability status. Then create a Library class to hold a list of books and add methods to add, borrow, and return books."
   ]
  },
  {
   "cell_type": "code",
   "execution_count": 5,
   "id": "04301cad",
   "metadata": {},
   "outputs": [
    {
     "name": "stdout",
     "output_type": "stream",
     "text": [
      "Book added: 1984 by George Orwell.\n",
      "Book added: To Kill a Mockingbird by Harper Lee.\n",
      "\"1984\" by George Orwell - Available\n",
      "\"To Kill a Mockingbird\" by Harper Lee - Available\n",
      "You borrowed: 1984\n",
      "\"1984\" by George Orwell - Checked Out\n",
      "\"To Kill a Mockingbird\" by Harper Lee - Available\n",
      "You returned: 1984\n",
      "\"1984\" by George Orwell - Available\n",
      "\"To Kill a Mockingbird\" by Harper Lee - Available\n"
     ]
    }
   ],
   "source": [
    "class Book:\n",
    "    def __init__(self, title, author):\n",
    "        self.title = title\n",
    "        self.author = author\n",
    "        self.available = True\n",
    "\n",
    "    def __str__(self):\n",
    "        status = \"Available\" if self.available else \"Checked Out\"\n",
    "        return f'\"{self.title}\" by {self.author} - {status}'\n",
    "\n",
    "\n",
    "class Library:\n",
    "    def __init__(self):\n",
    "        self.books = []\n",
    "\n",
    "    def add_book(self, book):\n",
    "        self.books.append(book)\n",
    "        print(f'Book added: {book.title} by {book.author}.')\n",
    "\n",
    "    def borrow_book(self, title):\n",
    "        for book in self.books:\n",
    "            if book.title.lower() == title.lower() and book.available:\n",
    "                book.available = False\n",
    "                print(f'You borrowed: {book.title}')\n",
    "                return\n",
    "        print(f'Sorry, \"{title}\" is not available.')\n",
    "\n",
    "    def return_book(self, title):\n",
    "        for book in self.books:\n",
    "            if book.title.lower() == title.lower() and not book.available:\n",
    "                book.available = True\n",
    "                print(f'You returned: {book.title}')\n",
    "                return\n",
    "        print(f'\"{title}\" was not borrowed from this library.')\n",
    "\n",
    "    def list_books(self):\n",
    "        if not self.books:\n",
    "            print(\"No books in the library.\")\n",
    "        for book in self.books:\n",
    "            print(book)\n",
    "\n",
    "\n",
    "\n",
    "if __name__ == \"__main__\":\n",
    "    library = Library()\n",
    "    book1 = Book(\"1984\", \"George Orwell\")\n",
    "    book2 = Book(\"To Kill a Mockingbird\", \"Harper Lee\")\n",
    "\n",
    "    library.add_book(book1)\n",
    "    library.add_book(book2)\n",
    "\n",
    "    library.list_books()\n",
    "\n",
    "    library.borrow_book(\"1984\")\n",
    "    library.list_books()\n",
    "\n",
    "    library.return_book(\"1984\")\n",
    "    library.list_books()\n"
   ]
  }
 ],
 "metadata": {
  "kernelspec": {
   "display_name": "Python 3",
   "language": "python",
   "name": "python3"
  },
  "language_info": {
   "codemirror_mode": {
    "name": "ipython",
    "version": 3
   },
   "file_extension": ".py",
   "mimetype": "text/x-python",
   "name": "python",
   "nbconvert_exporter": "python",
   "pygments_lexer": "ipython3",
   "version": "3.13.2"
  }
 },
 "nbformat": 4,
 "nbformat_minor": 5
}
