{
 "cells": [
  {
   "cell_type": "markdown",
   "id": "b6067b00",
   "metadata": {},
   "source": [
    "# Class 7 - Object Oriented Programming (OOP)"
   ]
  },
  {
   "cell_type": "markdown",
   "id": "2065df99",
   "metadata": {},
   "source": [
    "\n",
    "## What is OOP?\n",
    "\n",
    "OOP (**Object-Oriented Programming**) is a style where code is structured around **objects** — things that contain both **data (attributes)** and **functions (methods)**.  \n",
    "It helps us make code:\n",
    "\n",
    "- Structured\n",
    "- Reusable\n",
    "- Disciplined\n",
    "- Easy to manage\n"
   ]
  },
  {
   "cell_type": "markdown",
   "id": "2e9b0fd2",
   "metadata": {},
   "source": [
    "# 1. Creating a Simple Class\n",
    "\n",
    "## Rules:\n",
    "- Class name should start with a capital letter.\n",
    "- Attributes (data) and methods (functions) belong to the class.\n"
   ]
  },
  {
   "cell_type": "code",
   "execution_count": 4,
   "id": "3e647e1a",
   "metadata": {},
   "outputs": [
    {
     "name": "stdout",
     "output_type": "stream",
     "text": [
      "Instance:  <__main__.Student object at 0x00000167A3F338C0>\n",
      "Okasha\n",
      "18\n"
     ]
    }
   ],
   "source": [
    "class Student:\n",
    "    name: str = \"Okasha\"\n",
    "    age: int = 18\n",
    "\n",
    "Student1 = Student()\n",
    "print(\"Instance: \", Student1)\n",
    "print(Student1.name)\n",
    "print(Student1.age)"
   ]
  },
  {
   "cell_type": "markdown",
   "id": "499c81a1",
   "metadata": {},
   "source": [
    "# 2. Using Constructor (__init__)"
   ]
  },
  {
   "cell_type": "markdown",
   "id": "bdbff7c4",
   "metadata": {},
   "source": [
    "The constructor method __init__ is used to set attributes when an object is created."
   ]
  },
  {
   "cell_type": "code",
   "execution_count": 5,
   "id": "01e58cc8",
   "metadata": {},
   "outputs": [
    {
     "name": "stdout",
     "output_type": "stream",
     "text": [
      "Name: Okasha\n",
      "Age: 18\n",
      "Name: Ali\n",
      "Age: 20\n"
     ]
    }
   ],
   "source": [
    "class Student:\n",
    "    def __init__(self, user_name, user_age):\n",
    "        self.name = user_name\n",
    "        self.age = user_age\n",
    "\n",
    "    def display_info(self):\n",
    "        print(\"Name:\", self.name)\n",
    "        print(\"Age:\", self.age)\n",
    "\n",
    "def print_student_info(name, age):\n",
    "    student = Student(name, age)\n",
    "    student.display_info()\n",
    "\n",
    "# Example Usage\n",
    "print_student_info(\"Okasha\", 18)\n",
    "print_student_info(\"Ali\", 20)\n"
   ]
  },
  {
   "cell_type": "markdown",
   "id": "3673eb8f",
   "metadata": {},
   "source": [
    "## 3. Access Modifiers\n",
    "\n",
    "Access modifiers control how attributes can be accessed:\n",
    "\n",
    "- Public: Accessible everywhere.\n",
    "\n",
    "- Protected: Accessible within class and subclass (by convention).\n",
    "\n",
    "- Private: Accessible only inside class (using double underscore __)."
   ]
  },
  {
   "cell_type": "code",
   "execution_count": 6,
   "id": "acfe3580",
   "metadata": {},
   "outputs": [
    {
     "name": "stdout",
     "output_type": "stream",
     "text": [
      "Okasha\n",
      "20\n",
      "1234\n"
     ]
    }
   ],
   "source": [
    "class Person:\n",
    "    def __init__(self, user_name, user_age, roll_num):\n",
    "        self.name = user_name        # Public\n",
    "        self.age = user_age          # Public\n",
    "        self.__roll_no = roll_num    # Private\n",
    "\n",
    "    def get_roll_num(self):          # Getter method to access private attribute\n",
    "        return self.__roll_no\n",
    "\n",
    "person_data = Person(\"Okasha\", 20, 1234)\n",
    "\n",
    "print(person_data.name)\n",
    "print(person_data.age)\n",
    "# print(person_data.__roll_no)  # This will give an error (private)\n",
    "print(person_data.get_roll_num())  # Correct way to access private attribute\n"
   ]
  },
  {
   "cell_type": "markdown",
   "id": "8ff07205",
   "metadata": {},
   "source": [
    "# 4. Four Pillars of OOP\n",
    "## 4.1 Inheritance\n",
    "Definition: When a class inherits properties and behaviors (methods) from another class."
   ]
  },
  {
   "cell_type": "code",
   "execution_count": 7,
   "id": "0ec1e9e0",
   "metadata": {},
   "outputs": [
    {
     "name": "stdout",
     "output_type": "stream",
     "text": [
      "Buddy makes a sound.\n",
      "Buddy barks.\n"
     ]
    }
   ],
   "source": [
    "class Animal:\n",
    "    def __init__(self, name):\n",
    "        self.name = name\n",
    "\n",
    "    def speak(self):\n",
    "        print(self.name, \"makes a sound.\")\n",
    "\n",
    "class Dog(Animal):  # Dog inherits from Animal\n",
    "    def bark(self):\n",
    "        print(self.name, \"barks.\")\n",
    "\n",
    "dog1 = Dog(\"Buddy\")\n",
    "dog1.speak()   # From Animal class\n",
    "dog1.bark()    # From Dog class\n"
   ]
  },
  {
   "cell_type": "markdown",
   "id": "ab285c59",
   "metadata": {},
   "source": [
    "## 4.2 Polymorphism\n",
    "Definition: Same function name behaving differently depending on the object."
   ]
  },
  {
   "cell_type": "code",
   "execution_count": 8,
   "id": "1128ba8f",
   "metadata": {},
   "outputs": [
    {
     "name": "stdout",
     "output_type": "stream",
     "text": [
      "Meow\n",
      "Woof\n"
     ]
    }
   ],
   "source": [
    "class Cat:\n",
    "    def speak(self):\n",
    "        print(\"Meow\")\n",
    "\n",
    "class Dog:\n",
    "    def speak(self):\n",
    "        print(\"Woof\")\n",
    "\n",
    "# Polymorphism\n",
    "for animal in (Cat(), Dog()):\n",
    "    animal.speak()\n"
   ]
  },
  {
   "cell_type": "markdown",
   "id": "adc45551",
   "metadata": {},
   "source": [
    "## 4.3 Abstraction\n",
    "Definition: Hiding complex details and showing only essential features."
   ]
  },
  {
   "cell_type": "code",
   "execution_count": 9,
   "id": "196e7834",
   "metadata": {},
   "outputs": [
    {
     "name": "stdout",
     "output_type": "stream",
     "text": [
      "Car is starting...\n"
     ]
    }
   ],
   "source": [
    "from abc import ABC, abstractmethod\n",
    "\n",
    "class Vehicle(ABC):  # Abstract Base Class\n",
    "    @abstractmethod\n",
    "    def start(self):\n",
    "        pass\n",
    "\n",
    "class Car(Vehicle):\n",
    "    def start(self):\n",
    "        print(\"Car is starting...\")\n",
    "\n",
    "my_car = Car()\n",
    "my_car.start()\n"
   ]
  },
  {
   "cell_type": "markdown",
   "id": "b9e3234a",
   "metadata": {},
   "source": [
    "(Here, you cannot create an object of Vehicle, you must create an object of Car.)"
   ]
  },
  {
   "cell_type": "markdown",
   "id": "45f4ff9c",
   "metadata": {},
   "source": [
    "## 4.4 Encapsulation\n",
    "Definition: Wrapping data (attributes) and code (methods) into a single unit and restricting direct access to some attributes."
   ]
  },
  {
   "cell_type": "code",
   "execution_count": 10,
   "id": "ee5b6167",
   "metadata": {},
   "outputs": [
    {
     "name": "stdout",
     "output_type": "stream",
     "text": [
      "1500\n"
     ]
    }
   ],
   "source": [
    "class BankAccount:\n",
    "    def __init__(self, balance):\n",
    "        self.__balance = balance  # Private attribute\n",
    "\n",
    "    def deposit(self, amount):\n",
    "        self.__balance += amount\n",
    "\n",
    "    def get_balance(self):\n",
    "        return self.__balance\n",
    "\n",
    "account = BankAccount(1000)\n",
    "account.deposit(500)\n",
    "print(account.get_balance())  # Output: 1500\n",
    "# print(account.__balance)   # Will give an error\n"
   ]
  },
  {
   "cell_type": "markdown",
   "id": "feaf1c23",
   "metadata": {},
   "source": [
    "# 🎯 Summary Table\n",
    "\n",
    "| Pillar        | Meaning                                          |\n",
    "|---------------|--------------------------------------------------|\n",
    "| Inheritance   | One class inherits from another                  |\n",
    "| Polymorphism  | One function behaves differently for objects     |\n",
    "| Abstraction   | Hiding internal details, showing only essentials |\n",
    "| Encapsulation | Hiding data and providing public methods         |\n"
   ]
  }
 ],
 "metadata": {
  "kernelspec": {
   "display_name": "Python 3",
   "language": "python",
   "name": "python3"
  },
  "language_info": {
   "codemirror_mode": {
    "name": "ipython",
    "version": 3
   },
   "file_extension": ".py",
   "mimetype": "text/x-python",
   "name": "python",
   "nbconvert_exporter": "python",
   "pygments_lexer": "ipython3",
   "version": "3.13.2"
  }
 },
 "nbformat": 4,
 "nbformat_minor": 5
}
