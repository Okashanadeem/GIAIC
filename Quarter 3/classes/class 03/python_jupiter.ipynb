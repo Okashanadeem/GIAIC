{
 "cells": [
  {
   "cell_type": "markdown",
   "metadata": {},
   "source": [
    "Greeting Message"
   ]
  },
  {
   "cell_type": "code",
   "execution_count": null,
   "metadata": {},
   "outputs": [],
   "source": [
    "print(\"hello Okasha\")  # Simple print statement"
   ]
  },
  {
   "cell_type": "markdown",
   "metadata": {},
   "source": [
    "Error Handling - List Index Error"
   ]
  },
  {
   "cell_type": "code",
   "execution_count": null,
   "metadata": {},
   "outputs": [],
   "source": [
    "# Creating a list of dishes\n",
    "dishes = [\"samose\", \"pakore\", \"chat\"]\n",
    "\n",
    "# Accessing a valid index\n",
    "print(dishes[0])  \n",
    "\n",
    "# Uncommenting the next line would cause an IndexError\n",
    "# print(dishes[4])  \n",
    "\n",
    "# Using try-except to handle errors\n",
    "try:\n",
    "    print(dishes[4])  # Attempting to access an invalid index\n",
    "except Exception as err:\n",
    "    print(\"Error is:\", err)  # Catching and printing the error\n",
    "    print(\"work done\")  # This will execute even if an error occurs"
   ]
  },
  {
   "cell_type": "markdown",
   "metadata": {},
   "source": [
    "Error Handling - Division by Zero"
   ]
  },
  {
   "cell_type": "code",
   "execution_count": null,
   "metadata": {},
   "outputs": [],
   "source": [
    "num = 10\n",
    "\n",
    "# Catching a general exception\n",
    "try:\n",
    "    print(10 / 0)  # Causes ZeroDivisionError\n",
    "except Exception as e:\n",
    "    print(\"Error is:\", e)\n",
    "\n",
    "# Catching a specific exception (ZeroDivisionError)\n",
    "try:\n",
    "    print(num / 0)\n",
    "except ZeroDivisionError as e:\n",
    "    print(\"Error is:\", e)\n",
    "finally:\n",
    "    print(\"Something went wrong\")  # Executes no matter what"
   ]
  },
  {
   "cell_type": "markdown",
   "metadata": {},
   "source": [
    "Conditional Statements"
   ]
  },
  {
   "cell_type": "code",
   "execution_count": null,
   "metadata": {},
   "outputs": [],
   "source": [
    "isRaining = True\n",
    "\n",
    "# Traditional if-else statement\n",
    "if isRaining:\n",
    "    print(\"School chalo.\")\n",
    "else:\n",
    "    print(\"School ki chutti.\")\n",
    "\n",
    "# Short-hand (ternary) if-else\n",
    "print(\"School ki chutti\") if not isRaining else print(\"School chalo.\")\n",
    "\n",
    "# Ternary assignment\n",
    "num = 5\n",
    "num2 = 10 if num <= num else 20  # Assigns value based on condition\n",
    "print(num2)"
   ]
  },
  {
   "cell_type": "markdown",
   "metadata": {},
   "source": [
    "Higher-Order Function - Using Loops"
   ]
  },
  {
   "cell_type": "code",
   "execution_count": null,
   "metadata": {},
   "outputs": [],
   "source": [
    "numbers = [1, 2, 3, 4, 5, 6]\n",
    "\n",
    "# Function to square a number\n",
    "def square(num):\n",
    "    return num * num\n",
    "\n",
    "# Using a loop to apply the function\n",
    "new_list = []\n",
    "for num in numbers:\n",
    "    sqr_num = square(num)\n",
    "    new_list.append(sqr_num)\n",
    "\n",
    "print(new_list)  # Prints squared numbers"
   ]
  },
  {
   "cell_type": "markdown",
   "metadata": {},
   "source": [
    "Higher-Order Function - Using map()"
   ]
  },
  {
   "cell_type": "code",
   "execution_count": null,
   "metadata": {},
   "outputs": [],
   "source": [
    "numbers = [1, 2, 3, 4, 5, 6]\n",
    "\n",
    "# Function to square a number\n",
    "def square(num):\n",
    "    return num * num\n",
    "\n",
    "# Using map() to apply a function to a list\n",
    "sqr_list = list(map(square, numbers))\n",
    "print(sqr_list)  # Prints squared numbers\n"
   ]
  },
  {
   "cell_type": "markdown",
   "metadata": {},
   "source": [
    "Higher-Order Function - Using filter()"
   ]
  },
  {
   "cell_type": "code",
   "execution_count": null,
   "metadata": {},
   "outputs": [
    {
     "name": "stdout",
     "output_type": "stream",
     "text": [
      "[4, 5, 6]\n",
      "[False, False, False, True, True, True]\n"
     ]
    }
   ],
   "source": [
    "numbers = [1, 2, 3, 4, 5, 6]\n",
    "\n",
    "# Function to filter numbers greater than 3\n",
    "def filter_cond(num):\n",
    "    return num > 3\n",
    "\n",
    "# Using filter() to filter values\n",
    "filter_list = list(filter(filter_cond, numbers))\n",
    "print(filter_list)  # Prints numbers greater than 3"
   ]
  },
  {
   "cell_type": "markdown",
   "metadata": {},
   "source": [
    "Common Mistake - Using map() Instead of filter()"
   ]
  },
  {
   "cell_type": "code",
   "execution_count": null,
   "metadata": {},
   "outputs": [
    {
     "name": "stdout",
     "output_type": "stream",
     "text": [
      "25\n"
     ]
    }
   ],
   "source": [
    "numbers = [1, 2, 3, 4, 5, 6]\n",
    "\n",
    "def filter_cond(num):\n",
    "    return num > 3\n",
    "\n",
    "# Incorrect use of map() (returns boolean values instead of filtered numbers)\n",
    "filter_list = list(map(filter_cond, numbers))\n",
    "print(filter_list)  # Prints True/False values instead of filtered numbers\n"
   ]
  },
  {
   "cell_type": "markdown",
   "metadata": {},
   "source": [
    "Using reduce() to Find the Sum of a List"
   ]
  },
  {
   "cell_type": "code",
   "execution_count": 2,
   "metadata": {},
   "outputs": [
    {
     "name": "stdout",
     "output_type": "stream",
     "text": [
      "21\n"
     ]
    }
   ],
   "source": [
    "from functools import reduce\n",
    "\n",
    "list = [1,2,3,4,5,6]\n",
    "\n",
    "reduced = reduce(lambda x,y : x+y, list)\n",
    "print(reduced)"
   ]
  },
  {
   "cell_type": "markdown",
   "metadata": {},
   "source": [
    "Finding the Maximum Value in a List"
   ]
  },
  {
   "cell_type": "code",
   "execution_count": 4,
   "metadata": {},
   "outputs": [
    {
     "name": "stdout",
     "output_type": "stream",
     "text": [
      "87\n"
     ]
    }
   ],
   "source": [
    "from functools import reduce\n",
    "\n",
    "numbers = [10, 24, 5, 87, 50]\n",
    "\n",
    "# Lambda function to find the max value\n",
    "max_value = reduce(lambda x, y: x if x > y else y, numbers)\n",
    "print(max_value)  # Output: 87 (largest number)\n"
   ]
  },
  {
   "cell_type": "markdown",
   "metadata": {},
   "source": [
    "Lambda Functions"
   ]
  },
  {
   "cell_type": "code",
   "execution_count": null,
   "metadata": {},
   "outputs": [],
   "source": [
    "# Regular function for addition\n",
    "def add(x, y):\n",
    "    return x + y\n",
    "\n",
    "print(add(4, 7))  # Outputs 11\n",
    "\n",
    "# Lambda function for squaring a number\n",
    "sqr = lambda x: x * x\n",
    "print(sqr(2))  # Outputs 4\n"
   ]
  }
 ],
 "metadata": {
  "kernelspec": {
   "display_name": "Python 3",
   "language": "python",
   "name": "python3"
  },
  "language_info": {
   "codemirror_mode": {
    "name": "ipython",
    "version": 3
   },
   "file_extension": ".py",
   "mimetype": "text/x-python",
   "name": "python",
   "nbconvert_exporter": "python",
   "pygments_lexer": "ipython3",
   "version": "3.13.2"
  }
 },
 "nbformat": 4,
 "nbformat_minor": 2
}
