{
 "cells": [
  {
   "cell_type": "code",
   "execution_count": null,
   "metadata": {},
   "outputs": [],
   "source": [
    "### 1. Recursive Function\n",
    "\n",
    "def count_down(num):\n",
    "    if num <= 0:\n",
    "        print(\"Dead end\")\n",
    "        return\n",
    "    print(\"num:\", num)\n",
    "    count_down(num - 1)\n",
    "\n",
    "# Calling the function\n",
    "count_down(10)\n"
   ]
  },
  {
   "cell_type": "code",
   "execution_count": null,
   "metadata": {},
   "outputs": [],
   "source": [
    "### 2. OS Module (Operating System Module)\n",
    "\n",
    "import os\n",
    "import shutil\n",
    "\n",
    "# Get current working directory\n",
    "print(\"Current Working Directory:\", os.getcwd())\n",
    "\n",
    "# List directory contents\n",
    "print(\"Directory Contents:\", os.listdir())\n",
    "\n",
    "# Create a directory named \"test\"\n",
    "os.mkdir(\"test\")\n",
    "\n",
    "# Rename \"test\" directory to \"test_new\"\n",
    "os.rename(\"test\", \"test_new\")\n",
    "\n",
    "# Remove \"test_new\" directory\n",
    "os.rmdir(\"test_new\")\n",
    "\n",
    "# Remove an entire directory (if it exists)\n",
    "shutil.rmtree(\"Example Folder\", ignore_errors=True)\n",
    "\n",
    "# Check if a directory exists\n",
    "print(\"Does 'test_new' exist?\", os.path.isdir(\"test_new\"))\n"
   ]
  },
  {
   "cell_type": "code",
   "execution_count": null,
   "metadata": {},
   "outputs": [],
   "source": [
    "### 3. File I/O (Input/Output)\n",
    "\n",
    "# Writing to a file\n",
    "file = open(\"text.txt\", \"w\")\n",
    "file.write(\"Ramzan Mubarak\")\n",
    "file.close()\n",
    "\n",
    "# Reading from a file\n",
    "file = open(\"text.txt\", \"r\")\n",
    "print(\"File Content:\", file.read())\n",
    "file.close()\n",
    "\n",
    "# Appending to a file\n",
    "file = open(\"text.txt\", \"a\")\n",
    "file.write(\"\\nRamzan Mubarak\")\n",
    "file.close()\n",
    "\n",
    "# Using 'with' statement for safe file handling\n",
    "with open(\"text.txt\", \"r\") as file:\n",
    "    print(\"File Content:\", file.read())\n"
   ]
  },
  {
   "cell_type": "code",
   "execution_count": null,
   "metadata": {},
   "outputs": [],
   "source": [
    "### 4. Generator Function (Homework)\n",
    "def my_generator():\n",
    "    for i in range(500):\n",
    "        yield i  # Yielding values from 0 to 499\n",
    "\n",
    "# Call the generator\n",
    "gen = my_generator()  \n",
    "\n",
    "# Fetch the first value\n",
    "print(next(gen))  # Output: 0\n",
    "\n",
    "# Fetch the second value\n",
    "print(next(gen))  # Output: 1\n"
   ]
  },
  {
   "cell_type": "code",
   "execution_count": null,
   "metadata": {},
   "outputs": [],
   "source": [
    "### 5. List Comprehension\n",
    "\n",
    "# Given list of numbers\n",
    "nums = [1, 2, 3, 4, 5, 6, 7, 8, 8, 9, 10]\n",
    "\n",
    "# Square of each number (Normal Loop)\n",
    "sqr_list = []\n",
    "for num in nums:\n",
    "    sqr_list.append(num * num)\n",
    "print(\"Squares using loop:\", sqr_list)\n",
    "\n",
    "# Square of each number (List Comprehension)\n",
    "sqr_list = [num * num for num in nums]\n",
    "print(\"Squares using list comprehension:\", sqr_list)\n",
    "\n",
    "# Extract even numbers using list comprehension\n",
    "even_list = [num for num in nums if num % 2 == 0]\n",
    "print(\"Even Numbers:\", even_list)\n"
   ]
  }
 ],
 "metadata": {
  "kernelspec": {
   "display_name": "Python 3",
   "language": "python",
   "name": "python3"
  },
  "language_info": {
   "codemirror_mode": {
    "name": "ipython",
    "version": 3
   },
   "file_extension": ".py",
   "mimetype": "text/x-python",
   "name": "python",
   "nbconvert_exporter": "python",
   "pygments_lexer": "ipython3",
   "version": "3.13.2"
  }
 },
 "nbformat": 4,
 "nbformat_minor": 2
}
