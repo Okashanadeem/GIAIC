{
 "cells": [
  {
   "cell_type": "code",
   "execution_count": null,
   "metadata": {},
   "outputs": [],
   "source": [
    "# Complex number example\n",
    "number: complex = 2 + 5j\n",
    "print(\"Number:\", number)\n",
    "print(\"Number Type:\", type(number))\n",
    "print(\"Real Part:\", number.real)\n",
    "print(\"Imaginary Part:\", number.imag)"
   ]
  },
  {
   "cell_type": "code",
   "execution_count": null,
   "metadata": {},
   "outputs": [],
   "source": [
    "# Binary representation using bin()\n",
    "binary_num: bin = bin(10)\n",
    "print(\"Binary num:\", binary_num)\n",
    "print(\"Binary num type:\", type(binary_num))"
   ]
  },
  {
   "cell_type": "code",
   "execution_count": null,
   "metadata": {},
   "outputs": [],
   "source": [
    "# Reading a binary image file\n",
    "with open(\"binary_file/pythoned.png\", \"rb\") as binary_file_img:\n",
    "    binary_data = binary_file_img.read()\n",
    "    print(binary_data)\n"
   ]
  },
  {
   "cell_type": "code",
   "execution_count": null,
   "metadata": {},
   "outputs": [],
   "source": [
    "# Object Identity and Comparison\n",
    "\n",
    "list_one = [1, 2, 3, 4, 5]\n",
    "list_two = [1, 2, 3, 4, 5]\n",
    "list_three = list_one\n",
    "\n",
    "print(\"ID of list one:\", id(list_one))\n",
    "print(\"ID of list two:\", id(list_two))\n",
    "print(\"ID of list three:\", id(list_three))\n",
    "\n",
    "# Comparisons\n",
    "print(\"list_one is list_two:\", list_one is list_two)  # False (different objects)\n",
    "print(\"list_one == list_two:\", list_one == list_two)  # True (same content)"
   ]
  },
  {
   "cell_type": "code",
   "execution_count": null,
   "metadata": {},
   "outputs": [],
   "source": [
    "# String Interning (Memory Optimization)\n",
    "\n",
    "name_one = \"Okasha\"\n",
    "name_two = \"Okasha\"\n",
    "print(id(name_one))\n",
    "print(id(name_two))\n",
    "\n",
    "name_three = \"Okasha Nadeem\"\n",
    "name_four = \"Okasha Nadeem\"\n",
    "print(id(name_three))\n",
    "print(id(name_four))\n",
    "\n",
    "# Note: Same content strings may share the same memory location (interning)."
   ]
  },
  {
   "cell_type": "code",
   "execution_count": null,
   "metadata": {},
   "outputs": [],
   "source": [
    "# Number Identity (Beyond Interning Range)\n",
    "\n",
    "num_one = 257\n",
    "num_two = 257\n",
    "print(id(num_one))\n",
    "print(id(num_two))\n",
    "print(\"Result:\", num_one is num_two)  # May be False if beyond interning range"
   ]
  },
  {
   "cell_type": "code",
   "execution_count": null,
   "metadata": {},
   "outputs": [],
   "source": [
    "# Manual String Interning with sys.intern()\n",
    "\n",
    "import sys\n",
    "\n",
    "name_one = sys.intern(\"My name is Okasha\")\n",
    "name_two = sys.intern(\"My name is Okasha\")\n",
    "\n",
    "print(id(name_one))\n",
    "print(id(name_two))  # Same IDs due to interning"
   ]
  },
  {
   "cell_type": "code",
   "execution_count": null,
   "metadata": {},
   "outputs": [],
   "source": [
    "# match-case Statement in Functions (Python 3.10+)\n",
    "\n",
    "def rishta(income: int):\n",
    "    match income:\n",
    "        case 0:\n",
    "            return \"You are poor\"\n",
    "        case 100000:\n",
    "            return \"You are rich\"\n",
    "        case 500000:\n",
    "            return \"You are middle\"\n",
    "\n",
    "# Testing\n",
    "print(rishta(0))\n",
    "print(rishta(100000))"
   ]
  }
 ],
 "metadata": {
  "kernelspec": {
   "display_name": "Python 3",
   "language": "python",
   "name": "python3"
  },
  "language_info": {
   "codemirror_mode": {
    "name": "ipython",
    "version": 3
   },
   "file_extension": ".py",
   "mimetype": "text/x-python",
   "name": "python",
   "nbconvert_exporter": "python",
   "pygments_lexer": "ipython3",
   "version": "3.13.2"
  }
 },
 "nbformat": 4,
 "nbformat_minor": 2
}
