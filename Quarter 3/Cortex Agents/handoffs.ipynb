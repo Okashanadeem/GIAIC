{
 "cells": [
  {
   "cell_type": "code",
   "execution_count": 1,
   "id": "e758a3fd",
   "metadata": {},
   "outputs": [
    {
     "name": "stdout",
     "output_type": "stream",
     "text": [
      "User: I want a refund for my last purchase.\n",
      "Agent: RefundAgent: Sure, I can help you with your refund.\n",
      "---\n",
      "User: I need support with my account.\n",
      "Agent: SupportAgent: Let me assist you with your issue.\n",
      "---\n",
      "User: Where is my order?\n",
      "Agent: MainAgent: Sorry, I can only help with refunds or support questions.\n",
      "---\n"
     ]
    }
   ],
   "source": [
    "# Base class for all agents\n",
    "class BaseAgent:\n",
    "    def handle(self, message):\n",
    "        raise NotImplementedError(\"Please implement the handle method.\")\n",
    "\n",
    "# Handles refund requests\n",
    "class RefundAgent(BaseAgent):\n",
    "    def handle(self, message):\n",
    "        return \"RefundAgent: Sure, I can help you with your refund.\"\n",
    "\n",
    "# Handles general support issues\n",
    "class SupportAgent(BaseAgent):\n",
    "    def handle(self, message):\n",
    "        return \"SupportAgent: Let me assist you with your issue.\"\n",
    "\n",
    "# Main agent that decides where to send the message\n",
    "class MainAgent:\n",
    "    def __init__(self):\n",
    "        self.refund_agent = RefundAgent()\n",
    "        self.support_agent = SupportAgent()\n",
    "\n",
    "    def handle(self, message):\n",
    "        message = message.lower()\n",
    "\n",
    "        if \"refund\" in message:\n",
    "            return self.refund_agent.handle(message)\n",
    "        elif \"support\" in message or \"problem\" in message:\n",
    "            return self.support_agent.handle(message)\n",
    "        else:\n",
    "            return \"MainAgent: Sorry, I can only help with refunds or support questions.\"\n",
    "\n",
    "# Simulate some user messages\n",
    "main_agent = MainAgent()\n",
    "\n",
    "messages = [\n",
    "    \"I want a refund for my last purchase.\",\n",
    "    \"I need support with my account.\",\n",
    "    \"Where is my order?\"\n",
    "]\n",
    "\n",
    "for msg in messages:\n",
    "    print(\"User:\", msg)\n",
    "    print(\"Agent:\", main_agent.handle(msg))\n",
    "    print(\"---\")\n"
   ]
  }
 ],
 "metadata": {
  "kernelspec": {
   "display_name": "Python 3",
   "language": "python",
   "name": "python3"
  },
  "language_info": {
   "name": "python",
   "version": "3.13.2"
  }
 },
 "nbformat": 4,
 "nbformat_minor": 5
}
